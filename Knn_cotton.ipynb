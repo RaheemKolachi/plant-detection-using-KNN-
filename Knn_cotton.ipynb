{
  "nbformat": 4,
  "nbformat_minor": 0,
  "metadata": {
    "colab": {
      "name": "Knn_cotton.ipynb",
      "provenance": [],
      "collapsed_sections": []
    },
    "kernelspec": {
      "name": "python3",
      "display_name": "Python 3"
    },
    "language_info": {
      "name": "python"
    },
    "accelerator": "GPU",
    "gpuClass": "standard"
  },
  "cells": [
    {
      "cell_type": "code",
      "execution_count": 4,
      "metadata": {
        "id": "y-9-jjwz3J7A"
      },
      "outputs": [],
      "source": [
        "from sklearn.neighbors import KNeighborsClassifier\n",
        "from sklearn.model_selection import train_test_split\n",
        "import os\n",
        "from sklearn.model_selection import GridSearchCV\n",
        "from imutils import paths\n",
        "import pandas as pd\n",
        "import numpy as np\n",
        "import matplotlib.pyplot as plt\n",
        "import cv2"
      ]
    },
    {
      "cell_type": "code",
      "source": [
        "def imgm(img,size=(32,32)):\n",
        "    img=cv2.resize(img,size)\n",
        "    pix=img.flatten()\n",
        "    return pix"
      ],
      "metadata": {
        "id": "DVVQnRIg3YdL"
      },
      "execution_count": 5,
      "outputs": []
    },
    {
      "cell_type": "code",
      "source": [
        "path=list(paths.list_images(\"/content/drive/MyDrive/Colab Notebooks/DataSets\"))\n",
        "IMG=[]\n",
        "label=[]\n",
        "\n",
        "for (i, image_path) in enumerate(path):\n",
        "    image = cv2.imread(image_path)\n",
        "    lab = image_path.split(os.path.sep)[-2].split(\".\")[0]\n",
        "    # extract raw pixel intensity \"features\n",
        "    pixels = imgm(image)\n",
        "    IMG.append(pixels)\n",
        "    label.append(lab)\n",
        "\n",
        "x = np.array(IMG)\n",
        "y = np.array(label)\n"
      ],
      "metadata": {
        "id": "AShhn0vr3dhL"
      },
      "execution_count": 6,
      "outputs": []
    },
    {
      "cell_type": "code",
      "source": [
        "_=plt.plot(x,y,\"ro\")\n"
      ],
      "metadata": {
        "colab": {
          "base_uri": "https://localhost:8080/",
          "height": 265
        },
        "id": "zgaRe6Ksoh91",
        "outputId": "c87faa01-f093-4b6d-fb29-6878bd19aa98"
      },
      "execution_count": 7,
      "outputs": [
        {
          "output_type": "display_data",
          "data": {
            "text/plain": [
              "<Figure size 432x288 with 1 Axes>"
            ],
            "image/png": "[encoded data removed]"
          },
          "metadata": {
            "needs_background": "light"
          }
        }
      ]
    },
    {
      "cell_type": "code",
      "source": [
        "from google.colab import drive\n",
        "drive.mount('/content/drive')"
      ],
      "metadata": {
        "colab": {
          "base_uri": "https://localhost:8080/"
        },
        "id": "F9ptZ08stsDj",
        "outputId": "3f85e197-abbb-4f55-a0a8-d72569229096"
      },
      "execution_count": 3,
      "outputs": [
        {
          "output_type": "stream",
          "name": "stdout",
          "text": [
            "Mounted at /content/drive\n"
          ]
        }
      ]
    },
    {
      "cell_type": "code",
      "source": [
        "sv= KNeighborsClassifier(algorithm='auto')\n",
        "parameters_KNN = {'n_neighbors': (1,10, 1),'leaf_size': (20,40,1),'p': (1,2),'weights': ('uniform', 'distance'),'metric': ('minkowski', 'chebyshev')}\n",
        "model=GridSearchCV(estimator=sv,param_grid=parameters_KNN,scoring = 'accuracy',n_jobs = -1,cv = 5)\n"
      ],
      "metadata": {
        "id": "5FQjFElB43HD"
      },
      "execution_count": 12,
      "outputs": []
    },
    {
      "cell_type": "code",
      "source": [
        "xtrain,xtest,ytrain,ytest=train_test_split(x,y,test_size=0.2)\n",
        "model.fit(xtrain,ytrain)\n"
      ],
      "metadata": {
        "colab": {
          "base_uri": "https://localhost:8080/"
        },
        "id": "y8CvR0sn48P6",
        "outputId": "50dc303b-f34d-469e-da1d-29e525ba070a"
      },
      "execution_count": 13,
      "outputs": [
        {
          "output_type": "execute_result",
          "data": {
            "text/plain": [
              "GridSearchCV(cv=5, estimator=KNeighborsClassifier(), n_jobs=-1,\n",
              "             param_grid={'leaf_size': (20, 40, 1),\n",
              "                         'metric': ('minkowski', 'chebyshev'),\n",
              "                         'n_neighbors': (1, 10, 1), 'p': (1, 2),\n",
              "                         'weights': ('uniform', 'distance')},\n",
              "             scoring='accuracy')"
            ]
          },
          "metadata": {},
          "execution_count": 13
        }
      ]
    },
    {
      "cell_type": "code",
      "source": [
        "pred=model.predict(xtest)\n",
        "from sklearn.metrics import accuracy_score\n",
        "accuracy_score(ytest,pred)"
      ],
      "metadata": {
        "id": "O_QtQDAY5I7_",
        "colab": {
          "base_uri": "https://localhost:8080/"
        },
        "outputId": "629c5c54-4d40-4c05-bfae-8d119b2ec152"
      },
      "execution_count": 14,
      "outputs": [
        {
          "output_type": "execute_result",
          "data": {
            "text/plain": [
              "0.9479768786127167"
            ]
          },
          "metadata": {},
          "execution_count": 14
        }
      ]
    },
    {
      "cell_type": "code",
      "source": [
        "_=plt.plot(xtest,ytest,\"ro\",xtest,pred,\"--k\")"
      ],
      "metadata": {
        "colab": {
          "base_uri": "https://localhost:8080/",
          "height": 265
        },
        "id": "uDEhi6k-paP2",
        "outputId": "770320c0-ad83-4423-d7a5-c05d5d2568e3"
      },
      "execution_count": 15,
      "outputs": [
        {
          "output_type": "display_data",
          "data": {
            "text/plain": [
              "<Figure size 432x288 with 1 Axes>"
            ],
            "image/png": "[encoded data removed]"
          },
          "metadata": {
            "needs_background": "light"
          }
        }
      ]
    },
    {
      "cell_type": "code",
      "source": [
        "from sklearn.metrics import confusion_matrix\n",
        "import seaborn as ss\n",
        "con=confusion_matrix(ytest,pred)\n",
        "imgs=ss.heatmap(con,annot=True,yticklabels=\"CB\",xticklabels=\"CB\")\n"
      ],
      "metadata": {
        "colab": {
          "base_uri": "https://localhost:8080/",
          "height": 265
        },
        "id": "oOnDunxp2U9S",
        "outputId": "24478dea-fee2-4e2d-8c42-5af0b1b4605f"
      },
      "execution_count": 16,
      "outputs": [
        {
          "output_type": "display_data",
          "data": {
            "text/plain": [
              "<Figure size 432x288 with 2 Axes>"
            ],
            "image/png": "[encoded data removed]"
          },
          "metadata": {
            "needs_background": "light"
          }
        }
      ]
    },
    {
      "cell_type": "code",
      "source": [
        "figure = imgs.get_figure()    \n",
        "figure.savefig('confusion knn .png', dpi=400)"
      ],
      "metadata": {
        "id": "8_6DhuCogIV_"
      },
      "execution_count": 19,
      "outputs": []
    },
    {
      "cell_type": "code",
      "source": [
        ""
      ],
      "metadata": {
        "id": "h8qwtprSpMDh"
      },
      "execution_count": null,
      "outputs": []
    },
    {
      "cell_type": "code",
      "source": [
        "from sklearn.metrics import classification_report\n",
        "report=classification_report(ytest,pred)\n",
        "print(report)"
      ],
      "metadata": {
        "id": "7XMrD-WW2r7L",
        "colab": {
          "base_uri": "https://localhost:8080/"
        },
        "outputId": "a6431dab-62ce-439d-8cc6-1ed05ac63104"
      },
      "execution_count": 20,
      "outputs": [
        {
          "output_type": "stream",
          "name": "stdout",
          "text": [
            "                  precision    recall  f1-score   support\n",
            "\n",
            "bacterial_blight       0.96      0.95      0.95        93\n",
            "      curl_virus       0.94      0.95      0.94        80\n",
            "\n",
            "        accuracy                           0.95       173\n",
            "       macro avg       0.95      0.95      0.95       173\n",
            "    weighted avg       0.95      0.95      0.95       173\n",
            "\n"
          ]
        }
      ]
    }
  ]
}